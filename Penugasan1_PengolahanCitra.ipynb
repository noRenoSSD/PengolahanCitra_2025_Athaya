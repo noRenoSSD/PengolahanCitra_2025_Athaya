{
  "nbformat": 4,
  "nbformat_minor": 0,
  "metadata": {
    "colab": {
      "provenance": [],
      "authorship_tag": "ABX9TyO1ITxD7Fc8HWy25PiQeazA",
      "include_colab_link": true
    },
    "kernelspec": {
      "name": "python3",
      "display_name": "Python 3"
    },
    "language_info": {
      "name": "python"
    }
  },
  "cells": [
    {
      "cell_type": "markdown",
      "metadata": {
        "id": "view-in-github",
        "colab_type": "text"
      },
      "source": [
        "<a href=\"https://colab.research.google.com/github/noRenoSSD/PengolahanCitra_2025_Athaya/blob/main/Penugasan1_PengolahanCitra.ipynb\" target=\"_parent\"><img src=\"https://colab.research.google.com/assets/colab-badge.svg\" alt=\"Open In Colab\"/></a>"
      ]
    },
    {
      "cell_type": "markdown",
      "source": [
        "# **Dasar Berkas Gambar**"
      ],
      "metadata": {
        "id": "LAg9z0Ev9Y9F"
      }
    },
    {
      "cell_type": "code",
      "execution_count": null,
      "metadata": {
        "id": "rXgJD2Qw7zFp"
      },
      "outputs": [],
      "source": []
    }
  ]
}